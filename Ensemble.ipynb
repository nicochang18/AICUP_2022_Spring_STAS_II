{
 "cells": [
  {
   "cell_type": "markdown",
   "metadata": {},
   "source": [
    "# Ensemble"
   ]
  },
  {
   "cell_type": "markdown",
   "metadata": {},
   "source": [
    "# Import Packages"
   ]
  },
  {
   "cell_type": "code",
   "execution_count": null,
   "metadata": {},
   "outputs": [],
   "source": [
    "import PIL \n",
    "import numpy as np\n",
    "import pandas as pd\n",
    "from PIL import Image\n",
    "import matplotlib.pyplot as plt\n",
    "import os\n",
    "import glob"
   ]
  },
  {
   "cell_type": "code",
   "execution_count": null,
   "metadata": {},
   "outputs": [],
   "source": [
    "# make folder\n",
    "try: \n",
    "    os.makedirs(\"./Ensemble\")\n",
    "except: \n",
    "    print('Already Exist')"
   ]
  },
  {
   "cell_type": "code",
   "execution_count": null,
   "metadata": {},
   "outputs": [],
   "source": [
    "# paths for three models\n",
    "path1 = \"nfnet_pan\"\n",
    "path2 = \"nfnet_deeplab3+\"\n",
    "path3 = \"efficientnet_deeplab3+\"\n",
    "\n",
    "# ensemble\n",
    "count = 0\n",
    "for i in glob.glob(os.path.join(path1, \"*png\")):\n",
    "  \n",
    "    print(i.split(\"/\")[-1])\n",
    "    filename = i.split(\"/\")[-1]\n",
    "    \n",
    "    # load images\n",
    "    img1 = Image.open(os.path.join(path1, filename))\n",
    "    img1_ar = np.asarray(img1)\n",
    "    img1_ar = np.where(img1_ar > 0, 1, 0)\n",
    "\n",
    "    img2 = Image.open(os.path.join(path2, filename))\n",
    "    img2_ar = np.asarray(img2)\n",
    "    img2_ar = np.where(img2_ar  > 0, 1, 0)\n",
    "\n",
    "    img3 = Image.open(os.path.join(path3, filename))\n",
    "    img3_ar = np.asarray(img3)\n",
    "    img3_ar = np.where(img3_ar > 0, 1, 0)\n",
    "\n",
    "    # voting\n",
    "    img_fix = (img1_ar + img2_ar + img3_ar)/3  \n",
    "    img_fix1 = img_fix.round()\n",
    "\n",
    "    plt.imsave(f\"./Ensemble/{filename}\", img_fix1, cmap='gray')\n",
    "    count += 1\n",
    "\n",
    "print(\"Ensemble finished {} images\".format(count))"
   ]
  }
 ],
 "metadata": {
  "interpreter": {
   "hash": "f08154012ddadd8e950e6e9e035c7a7b32c136e7647e9b7c77e02eb723a8bedb"
  },
  "kernelspec": {
   "display_name": "Python 3.9.7 ('base')",
   "language": "python",
   "name": "python3"
  },
  "language_info": {
   "name": "python",
   "version": "3.9.7"
  },
  "orig_nbformat": 4
 },
 "nbformat": 4,
 "nbformat_minor": 2
}
